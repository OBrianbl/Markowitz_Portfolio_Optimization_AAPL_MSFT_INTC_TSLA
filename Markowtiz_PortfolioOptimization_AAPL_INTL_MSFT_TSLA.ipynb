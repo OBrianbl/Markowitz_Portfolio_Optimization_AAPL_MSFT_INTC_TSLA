{
 "cells": [
  {
   "cell_type": "markdown",
   "metadata": {},
   "source": [
    "### Brandon O'Briant\n",
    "### Markowitz Portfolio Optimization\n",
    "### Apple, Microsoft, Intel, Tesla"
   ]
  },
  {
   "cell_type": "raw",
   "metadata": {},
   "source": [
    "The problem definition: \n",
    "    With new tech companies emerging everyday, which four companies should I\n",
    "    build my Tech Portfolio with? Given those four choosen, how can I optimize\n",
    "    this portfolio to maximize returns, while minimizing total cost?\n",
    "\n",
    "Research:\n",
    "    Using the same practices as Warren Buffet to choose his core holdings\n",
    "    (foundation of a portfolio) of choosing long intrenched and strong core\n",
    "    hodlings (i.e. Coca-cola, IBM, American Express). Since I am looking to \n",
    "    build a portfolio with tech based core holdings I am going to look at three\n",
    "    which have been around for a while, building/inovating new\n",
    "    tech that we use everyday, and have had a strong stable performance/growth \n",
    "    over time: Microsoft, Intel, and Apple Inc.\n",
    "    \n",
    "    For the fourth core holding I have choosen Tesla Inc, due to its prowess \n",
    "    in the new inovative auto technologies and that SpaceX is boosting reliability\n",
    "    of Elon Musks tech muscles along with the fact that I cannot directly \n",
    "    invest in SpaceX yet and would have to invest in compaies that produce\n",
    "    materials or are sending up sateliets and plan to use SpaceX to do it, I \n",
    "    believe that by investing in Tesla Inc, it will be the closet to gaining\n",
    "    a reward from the performance of SpaceX. This is definitly a 10+ year \n",
    "    risk/reward investment. \n",
    "    \n",
    "Solution:\n",
    "    This program looks to analyis a portfolio built upon the core holdings of:\n",
    "    Microsoft (MSFT), Apple Inc. (AAPL), Intel (INTC), and Tesla Inc. (TSLA).\n",
    "    \n",
    "    Then optimize this portfolio to produce the maximum return on my investment,\n",
    "    while minimizing my total cost. \n",
    "    \n",
    "    By calculating the rate of a return of a portfolio that contains these four\n",
    "    secruities, we can find the histociral rate of return (expected rate) from \n",
    "    this portfolio in the future. \n",
    "    \n",
    "    We will calculate the rates of return for each individual security and\n",
    "    multiply this by the weight it has in the overall portfolio. \n",
    "        \n",
    "        sum(rate of return for a security_i * weight in portfolio_i)\n",
    "        for i = 1,...,4\n",
    "    \n",
    "    Fo an equally weighted portfolio, this would mean in our case that\n",
    "    each stock has a weight of 25% since:\n",
    "        \n",
    "                     sum(APPL return * 25%,\n",
    "                         MSFT return * 25%,\n",
    "                         INTL return * 25%,\n",
    "                         TSLA return * 25%)\n",
    "                        \n",
    "    The sum of these return would be the rate of the return for the portfolio.\n",
    "    \n",
    "    Since, we are looking to optimize our portfolio the weights will vary. The\n",
    "    calculation will be the same, but will the different weights. For example,\n",
    "    APPL 35%, MSFT 25%, INTL 15%, TSLA 25%:\n",
    "              \n",
    "                      sum(APPL return * 35%,\n",
    "                          MSFT return * 25%,\n",
    "                          INTL return * 15%,\n",
    "                          TSLA return * 25%)\n",
    "                          \n",
    "                          \n",
    "    To figure out the optimal combination we will run simulation of 1000 different \n",
    "    combinations of weights to obtain the Markowitz Efficient Frontier. This will \n",
    "    allow us to choose the portfolio with the combination of weights that produces\n",
    "    the lowest expected volatility and the highest expected return."
   ]
  },
  {
   "cell_type": "code",
   "execution_count": 2,
   "metadata": {
    "collapsed": true
   },
   "outputs": [],
   "source": [
    "# import packages to be used in the namespace\n",
    "import numpy as np\n",
    "import pandas as pd\n",
    "from pandas_datareader import data as wb\n",
    "import matplotlib.pyplot as plt"
   ]
  },
  {
   "cell_type": "code",
   "execution_count": 16,
   "metadata": {
    "collapsed": true
   },
   "outputs": [],
   "source": [
    "# overrides the default rcParams for plotting\n",
    "def init_plotting():\n",
    "    plt.style.use(style='ggplot')\n",
    "    plt.rcParams['figure.figsize'] = (10.0, 8.0)\n",
    "    plt.rcParams['font.family'] = 'serif'\n",
    "    plt.rcParams['text.color'] = 'black'\n",
    "    plt.rcParams['axes.labelcolor'] = 'black'\n",
    "    plt.rcParams['xtick.color']= 'black'\n",
    "    plt.rcParams['ytick.color']= 'black'\n",
    "init_plotting()\n",
    "# avoid empty plot, always good to close plot\n",
    "plt.close() "
   ]
  },
  {
   "cell_type": "code",
   "execution_count": 17,
   "metadata": {
    "collapsed": true
   },
   "outputs": [],
   "source": [
    "# note about numpy, we can vectorize (organize several knids of data processing\n",
    "# tasks as array expression) data to simplify calucations\n",
    "# using one or multi demensional arrays\n",
    "\n",
    "# The adjusted closing price will be used for calucaltions in this program\n",
    "# since the adjusted closing price (Adj Close) accounts for dividen payouts\n",
    "# and stock splits\n",
    "\n",
    "# ticker_df, desired name for pandas DataFrame\n",
    "# tickername, type string, is the name of the ticker for source to look up\n",
    "# data_source is yahoo\n",
    "# start_date, the desired start date of the stock information\n",
    "def import_stock_data(ticker_df, tickers, start_date):\n",
    "    ticker_df = pd.DataFrame()\n",
    "    for t in tickers:\n",
    "        ticker_df[t] = wb.DataReader(t, data_source = 'yahoo',\n",
    "                               start = start_date)['Adj Close']\n",
    "    return ticker_df"
   ]
  },
  {
   "cell_type": "code",
   "execution_count": 18,
   "metadata": {
    "collapsed": true
   },
   "outputs": [],
   "source": [
    "# prints first and last few rows of DataFrame\n",
    "# prints information about DataFrame (number of columns, rows, data type)\n",
    "def print_head_tail_info_df(dataframe):\n",
    "    print('\\n{} first ten rows:\\n {}'.format(dataframe.name, dataframe.head()))\n",
    "    print('\\n{} last ten rows:\\n {}'.format(dataframe.name, dataframe.tail()))\n",
    "    print('\\n{} dataframe information:\\n {}'.format(dataframe.name, dataframe.info()))"
   ]
  },
  {
   "cell_type": "code",
   "execution_count": 19,
   "metadata": {
    "collapsed": true
   },
   "outputs": [],
   "source": [
    "# start date for the stocks data\n",
    "# the dataset starts June 29, 2010 and goes to present\n",
    "s_d = '2010-6-29'"
   ]
  },
  {
   "cell_type": "code",
   "execution_count": 22,
   "metadata": {
    "collapsed": true
   },
   "outputs": [],
   "source": [
    "# tickers for stocks to be ustilized in this program\n",
    "tickers = ['AAPL', 'MSFT', 'INTL', 'TSLA']"
   ]
  },
  {
   "cell_type": "code",
   "execution_count": 29,
   "metadata": {
    "collapsed": true
   },
   "outputs": [],
   "source": [
    "# port_data, pandas DataFrame to store stock data\n",
    "# initialized to enmtpy DataFrame\n",
    "port_data = pd.DataFrame()\n",
    "\n",
    "# add name to DataFrame\n",
    "port_data.name = 'portfolio'"
   ]
  },
  {
   "cell_type": "code",
   "execution_count": 33,
   "metadata": {},
   "outputs": [],
   "source": [
    "# import the stock data from yahoo for the tickers, and store it in port_data\n",
    "# ------NOTE: check this against yahoo to make sure information is correct-----#\n",
    "# ------NOTE: At times YAHOO does not repsond, must try again---sometimes wait until trading is open.\n",
    "port_data = import_stock_data(port_data, tickers, s_d) "
   ]
  },
  {
   "cell_type": "code",
   "execution_count": 34,
   "metadata": {},
   "outputs": [
    {
     "ename": "AttributeError",
     "evalue": "'DataFrame' object has no attribute 'name'",
     "output_type": "error",
     "traceback": [
      "\u001b[1;31m---------------------------------------------------------------------------\u001b[0m",
      "\u001b[1;31mAttributeError\u001b[0m                            Traceback (most recent call last)",
      "\u001b[1;32m<ipython-input-34-62973976f34f>\u001b[0m in \u001b[0;36m<module>\u001b[1;34m()\u001b[0m\n\u001b[0;32m      1\u001b[0m \u001b[1;31m# check the first and last few rows and infor for port_data\u001b[0m\u001b[1;33m\u001b[0m\u001b[1;33m\u001b[0m\u001b[0m\n\u001b[1;32m----> 2\u001b[1;33m \u001b[0mprint_head_tail_info_df\u001b[0m\u001b[1;33m(\u001b[0m\u001b[0mport_data\u001b[0m\u001b[1;33m)\u001b[0m\u001b[1;33m\u001b[0m\u001b[0m\n\u001b[0m",
      "\u001b[1;32m<ipython-input-18-7e85b3c1fef0>\u001b[0m in \u001b[0;36mprint_head_tail_info_df\u001b[1;34m(dataframe)\u001b[0m\n\u001b[0;32m      2\u001b[0m \u001b[1;31m# prints information about DataFrame (number of columns, rows, data type)\u001b[0m\u001b[1;33m\u001b[0m\u001b[1;33m\u001b[0m\u001b[0m\n\u001b[0;32m      3\u001b[0m \u001b[1;32mdef\u001b[0m \u001b[0mprint_head_tail_info_df\u001b[0m\u001b[1;33m(\u001b[0m\u001b[0mdataframe\u001b[0m\u001b[1;33m)\u001b[0m\u001b[1;33m:\u001b[0m\u001b[1;33m\u001b[0m\u001b[0m\n\u001b[1;32m----> 4\u001b[1;33m     \u001b[0mprint\u001b[0m\u001b[1;33m(\u001b[0m\u001b[1;34m'\\n{} first ten rows:\\n {}'\u001b[0m\u001b[1;33m.\u001b[0m\u001b[0mformat\u001b[0m\u001b[1;33m(\u001b[0m\u001b[0mdataframe\u001b[0m\u001b[1;33m.\u001b[0m\u001b[0mname\u001b[0m\u001b[1;33m,\u001b[0m \u001b[0mdataframe\u001b[0m\u001b[1;33m.\u001b[0m\u001b[0mhead\u001b[0m\u001b[1;33m(\u001b[0m\u001b[1;33m)\u001b[0m\u001b[1;33m)\u001b[0m\u001b[1;33m)\u001b[0m\u001b[1;33m\u001b[0m\u001b[0m\n\u001b[0m\u001b[0;32m      5\u001b[0m     \u001b[0mprint\u001b[0m\u001b[1;33m(\u001b[0m\u001b[1;34m'\\n{} last ten rows:\\n {}'\u001b[0m\u001b[1;33m.\u001b[0m\u001b[0mformat\u001b[0m\u001b[1;33m(\u001b[0m\u001b[0mdataframe\u001b[0m\u001b[1;33m.\u001b[0m\u001b[0mname\u001b[0m\u001b[1;33m,\u001b[0m \u001b[0mdataframe\u001b[0m\u001b[1;33m.\u001b[0m\u001b[0mtail\u001b[0m\u001b[1;33m(\u001b[0m\u001b[1;33m)\u001b[0m\u001b[1;33m)\u001b[0m\u001b[1;33m)\u001b[0m\u001b[1;33m\u001b[0m\u001b[0m\n\u001b[0;32m      6\u001b[0m     \u001b[0mprint\u001b[0m\u001b[1;33m(\u001b[0m\u001b[1;34m'\\n{} dataframe information:\\n {}'\u001b[0m\u001b[1;33m.\u001b[0m\u001b[0mformat\u001b[0m\u001b[1;33m(\u001b[0m\u001b[0mdataframe\u001b[0m\u001b[1;33m.\u001b[0m\u001b[0mname\u001b[0m\u001b[1;33m,\u001b[0m \u001b[0mdataframe\u001b[0m\u001b[1;33m.\u001b[0m\u001b[0minfo\u001b[0m\u001b[1;33m(\u001b[0m\u001b[1;33m)\u001b[0m\u001b[1;33m)\u001b[0m\u001b[1;33m)\u001b[0m\u001b[1;33m\u001b[0m\u001b[0m\n",
      "\u001b[1;32m~\\Anaconda3\\lib\\site-packages\\pandas\\core\\generic.py\u001b[0m in \u001b[0;36m__getattr__\u001b[1;34m(self, name)\u001b[0m\n\u001b[0;32m   3079\u001b[0m             \u001b[1;32mif\u001b[0m \u001b[0mname\u001b[0m \u001b[1;32min\u001b[0m \u001b[0mself\u001b[0m\u001b[1;33m.\u001b[0m\u001b[0m_info_axis\u001b[0m\u001b[1;33m:\u001b[0m\u001b[1;33m\u001b[0m\u001b[0m\n\u001b[0;32m   3080\u001b[0m                 \u001b[1;32mreturn\u001b[0m \u001b[0mself\u001b[0m\u001b[1;33m[\u001b[0m\u001b[0mname\u001b[0m\u001b[1;33m]\u001b[0m\u001b[1;33m\u001b[0m\u001b[0m\n\u001b[1;32m-> 3081\u001b[1;33m             \u001b[1;32mreturn\u001b[0m \u001b[0mobject\u001b[0m\u001b[1;33m.\u001b[0m\u001b[0m__getattribute__\u001b[0m\u001b[1;33m(\u001b[0m\u001b[0mself\u001b[0m\u001b[1;33m,\u001b[0m \u001b[0mname\u001b[0m\u001b[1;33m)\u001b[0m\u001b[1;33m\u001b[0m\u001b[0m\n\u001b[0m\u001b[0;32m   3082\u001b[0m \u001b[1;33m\u001b[0m\u001b[0m\n\u001b[0;32m   3083\u001b[0m     \u001b[1;32mdef\u001b[0m \u001b[0m__setattr__\u001b[0m\u001b[1;33m(\u001b[0m\u001b[0mself\u001b[0m\u001b[1;33m,\u001b[0m \u001b[0mname\u001b[0m\u001b[1;33m,\u001b[0m \u001b[0mvalue\u001b[0m\u001b[1;33m)\u001b[0m\u001b[1;33m:\u001b[0m\u001b[1;33m\u001b[0m\u001b[0m\n",
      "\u001b[1;31mAttributeError\u001b[0m: 'DataFrame' object has no attribute 'name'"
     ]
    }
   ],
   "source": [
    "# check the first and last few rows and infor for port_data\n",
    "print_head_tail_info_df(port_data)"
   ]
  },
  {
   "cell_type": "code",
   "execution_count": null,
   "metadata": {
    "collapsed": true
   },
   "outputs": [],
   "source": [
    "# Normalizatoin to 100: helps normalize data to 100\n",
    "#  (P_t/P_0) * 100\n",
    "# create subset of data using .iloc[0] to exract the data from the first column\n",
    "# of the table to be used in normailization procedure to use for campring \n",
    "# all stocks as if they all started at 100\n",
    "# create line chart of data to compare behavior of stocks\n",
    "(port_data/port_data.iloc[0]*100).plot(figsize = (15,6))\n",
    "plt.show()"
   ]
  },
  {
   "cell_type": "code",
   "execution_count": 13,
   "metadata": {
    "collapsed": true
   },
   "outputs": [],
   "source": [
    "##############################################################################\n",
    "#            Calcualting The Return of Portfolio Securities                  #\n",
    "##############################################################################\n",
    "## Simple Rate of Return\n",
    "# To calcualte the simple rate of return  we use todays\n",
    "# closing price minus the previous days price all divided by the previous\n",
    "# days closing price: \n",
    "#       (P_1 - P_0)/P_0\n",
    "# Another way to express this is \n",
    "#         (P_1/P_0)-1\n",
    "\n",
    "# calcualtes the simple rate of return\n",
    "# creates a new column to store the simple_return\n",
    "# returns dataframe with the new column associated with the simple rate of return\n",
    "# we shift the day using pandas.DataFrame.shit(# of lags), in our case\n",
    "# # of lags is 1, thus we are shifting the index by 1\n",
    "# Note there will be a nan value for the first value, since there is no lag for the\n",
    "# first day recorded\n",
    "# prints out the calcualted results\n",
    "def simple_rate_of_return(dataframe):\n",
    "    returns = (dataframe/dataframe.shift(1)) -1\n",
    "    print('\\n{} simple_rate_of_return results:\\n {}'\n",
    "          .format(dataframe.name, returns))\n",
    "    return returns"
   ]
  },
  {
   "cell_type": "code",
   "execution_count": 14,
   "metadata": {
    "collapsed": true
   },
   "outputs": [],
   "source": [
    "# calculate the portfolios annual returns with using simple return time 250\n",
    "# then calcualte the expected return (annual) with dot product of weights\n",
    "# and annual returns\n",
    "def portfolio_annual_return_weights(simple_returns, weights):\n",
    "        # calculate the annual return\n",
    "        annual_returns = simple_returns.mean()*250\n",
    "        # calulate portfolio returns using the dot product of simple returns and weights\n",
    "        annual_return = round(np.dot(annual_returns, weights), 5) * 100\n",
    "        print('\\n Portfolio annual return percent:\\n {} %'\n",
    "              .format(str(annual_return)))\n",
    "        return annual_return"
   ]
  },
  {
   "cell_type": "code",
   "execution_count": 15,
   "metadata": {},
   "outputs": [
    {
     "ename": "AttributeError",
     "evalue": "'DataFrame' object has no attribute 'name'",
     "output_type": "error",
     "traceback": [
      "\u001b[1;31m---------------------------------------------------------------------------\u001b[0m",
      "\u001b[1;31mAttributeError\u001b[0m                            Traceback (most recent call last)",
      "\u001b[1;32m<ipython-input-15-667a05ca48c7>\u001b[0m in \u001b[0;36m<module>\u001b[1;34m()\u001b[0m\n\u001b[0;32m      1\u001b[0m \u001b[1;31m# calculate simple rate of returns for securities in portfolio\u001b[0m\u001b[1;33m\u001b[0m\u001b[1;33m\u001b[0m\u001b[0m\n\u001b[1;32m----> 2\u001b[1;33m \u001b[0msimple_returns\u001b[0m \u001b[1;33m=\u001b[0m \u001b[0msimple_rate_of_return\u001b[0m\u001b[1;33m(\u001b[0m\u001b[0mport_data\u001b[0m\u001b[1;33m)\u001b[0m\u001b[1;33m\u001b[0m\u001b[0m\n\u001b[0m",
      "\u001b[1;32m<ipython-input-13-ec0bc6ca0167>\u001b[0m in \u001b[0;36msimple_rate_of_return\u001b[1;34m(dataframe)\u001b[0m\n\u001b[0;32m     21\u001b[0m     \u001b[0mreturns\u001b[0m \u001b[1;33m=\u001b[0m \u001b[1;33m(\u001b[0m\u001b[0mdataframe\u001b[0m\u001b[1;33m/\u001b[0m\u001b[0mdataframe\u001b[0m\u001b[1;33m.\u001b[0m\u001b[0mshift\u001b[0m\u001b[1;33m(\u001b[0m\u001b[1;36m1\u001b[0m\u001b[1;33m)\u001b[0m\u001b[1;33m)\u001b[0m \u001b[1;33m-\u001b[0m\u001b[1;36m1\u001b[0m\u001b[1;33m\u001b[0m\u001b[0m\n\u001b[0;32m     22\u001b[0m     print('\\n{} simple_rate_of_return results:\\n {}'\n\u001b[1;32m---> 23\u001b[1;33m           .format(dataframe.name, returns))\n\u001b[0m\u001b[0;32m     24\u001b[0m     \u001b[1;32mreturn\u001b[0m \u001b[0mreturns\u001b[0m\u001b[1;33m\u001b[0m\u001b[0m\n",
      "\u001b[1;32m~\\Anaconda3\\lib\\site-packages\\pandas\\core\\generic.py\u001b[0m in \u001b[0;36m__getattr__\u001b[1;34m(self, name)\u001b[0m\n\u001b[0;32m   3079\u001b[0m             \u001b[1;32mif\u001b[0m \u001b[0mname\u001b[0m \u001b[1;32min\u001b[0m \u001b[0mself\u001b[0m\u001b[1;33m.\u001b[0m\u001b[0m_info_axis\u001b[0m\u001b[1;33m:\u001b[0m\u001b[1;33m\u001b[0m\u001b[0m\n\u001b[0;32m   3080\u001b[0m                 \u001b[1;32mreturn\u001b[0m \u001b[0mself\u001b[0m\u001b[1;33m[\u001b[0m\u001b[0mname\u001b[0m\u001b[1;33m]\u001b[0m\u001b[1;33m\u001b[0m\u001b[0m\n\u001b[1;32m-> 3081\u001b[1;33m             \u001b[1;32mreturn\u001b[0m \u001b[0mobject\u001b[0m\u001b[1;33m.\u001b[0m\u001b[0m__getattribute__\u001b[0m\u001b[1;33m(\u001b[0m\u001b[0mself\u001b[0m\u001b[1;33m,\u001b[0m \u001b[0mname\u001b[0m\u001b[1;33m)\u001b[0m\u001b[1;33m\u001b[0m\u001b[0m\n\u001b[0m\u001b[0;32m   3082\u001b[0m \u001b[1;33m\u001b[0m\u001b[0m\n\u001b[0;32m   3083\u001b[0m     \u001b[1;32mdef\u001b[0m \u001b[0m__setattr__\u001b[0m\u001b[1;33m(\u001b[0m\u001b[0mself\u001b[0m\u001b[1;33m,\u001b[0m \u001b[0mname\u001b[0m\u001b[1;33m,\u001b[0m \u001b[0mvalue\u001b[0m\u001b[1;33m)\u001b[0m\u001b[1;33m:\u001b[0m\u001b[1;33m\u001b[0m\u001b[0m\n",
      "\u001b[1;31mAttributeError\u001b[0m: 'DataFrame' object has no attribute 'name'"
     ]
    }
   ],
   "source": [
    "# calculate simple rate of returns for securities in portfolio\n",
    "simple_returns = simple_rate_of_return(port_data)"
   ]
  },
  {
   "cell_type": "code",
   "execution_count": null,
   "metadata": {
    "collapsed": true
   },
   "outputs": [],
   "source": [
    "# this is to assign equal weights\n",
    "weights_port_1 = np.array([0.25, 0.25, 0.25, 0.25])\n",
    "# calulate portfolio annual return using the dot product of returns and weights\n",
    "portfolio_1_annual_return = portfolio_annual_return_weights(simple_returns, weights_port_1)"
   ]
  },
  {
   "cell_type": "code",
   "execution_count": null,
   "metadata": {
    "collapsed": true
   },
   "outputs": [],
   "source": [
    "# this is to assign equal weights\n",
    "weights_port_2 = np.array([0.40, 0.30, 0.15, 0.15])\n",
    "# calulate portfolio annual return using the dot product of returns and weights\n",
    "portfolio_2_annual_return = portfolio_annual_return_weights(simple_returns, weights_port_2)"
   ]
  },
  {
   "cell_type": "code",
   "execution_count": 10,
   "metadata": {},
   "outputs": [
    {
     "ename": "NameError",
     "evalue": "name 'portfolio_annual_return_weights' is not defined",
     "output_type": "error",
     "traceback": [
      "\u001b[1;31m---------------------------------------------------------------------------\u001b[0m",
      "\u001b[1;31mNameError\u001b[0m                                 Traceback (most recent call last)",
      "\u001b[1;32m<ipython-input-10-f437c69d532b>\u001b[0m in \u001b[0;36m<module>\u001b[1;34m()\u001b[0m\n\u001b[0;32m      2\u001b[0m \u001b[0mweights_port_3\u001b[0m \u001b[1;33m=\u001b[0m \u001b[0mnp\u001b[0m\u001b[1;33m.\u001b[0m\u001b[0marray\u001b[0m\u001b[1;33m(\u001b[0m\u001b[1;33m[\u001b[0m\u001b[1;36m0.25\u001b[0m\u001b[1;33m,\u001b[0m \u001b[1;36m0.20\u001b[0m\u001b[1;33m,\u001b[0m \u001b[1;36m0.15\u001b[0m\u001b[1;33m,\u001b[0m \u001b[1;36m0.40\u001b[0m\u001b[1;33m]\u001b[0m\u001b[1;33m)\u001b[0m\u001b[1;33m\u001b[0m\u001b[0m\n\u001b[0;32m      3\u001b[0m \u001b[1;31m# calulate portfolio annual return using the dot product of returns and weights\u001b[0m\u001b[1;33m\u001b[0m\u001b[1;33m\u001b[0m\u001b[0m\n\u001b[1;32m----> 4\u001b[1;33m \u001b[0mportfolio_3_annual_return\u001b[0m \u001b[1;33m=\u001b[0m \u001b[0mportfolio_annual_return_weights\u001b[0m\u001b[1;33m(\u001b[0m\u001b[0msimple_returns\u001b[0m\u001b[1;33m,\u001b[0m \u001b[0mweights_port_3\u001b[0m\u001b[1;33m)\u001b[0m\u001b[1;33m\u001b[0m\u001b[0m\n\u001b[0m",
      "\u001b[1;31mNameError\u001b[0m: name 'portfolio_annual_return_weights' is not defined"
     ]
    }
   ],
   "source": [
    "# this is to assign equal weights\n",
    "weights_port_3 = np.array([0.25, 0.20, 0.15, 0.40])\n",
    "# calulate portfolio annual return using the dot product of returns and weights\n",
    "portfolio_3_annual_return = portfolio_annual_return_weights(simple_returns, weights_port_3)"
   ]
  },
  {
   "cell_type": "code",
   "execution_count": null,
   "metadata": {
    "collapsed": true
   },
   "outputs": [],
   "source": [
    "#############################################################################\n",
    "#                       Efficient Frontier                                  #\n",
    "#############################################################################\n",
    "# calculate the log returns for the securities\n",
    "log_returns = np.log(port_data/port_data.shift(1))"
   ]
  },
  {
   "cell_type": "code",
   "execution_count": null,
   "metadata": {
    "collapsed": true
   },
   "outputs": [],
   "source": [
    "# number of assests\n",
    "num_assets = len(tickers) "
   ]
  },
  {
   "cell_type": "code",
   "execution_count": null,
   "metadata": {
    "collapsed": true
   },
   "outputs": [],
   "source": [
    "    \n",
    "# intialize empty list\n",
    "pfolio_returns = []\n",
    "pfolio_volatilities = []"
   ]
  },
  {
   "cell_type": "code",
   "execution_count": null,
   "metadata": {
    "collapsed": true
   },
   "outputs": [],
   "source": [
    "# run 1000 simulations caclulating the annualize portfolio returns\n",
    "# and the volatilities for the returns\n",
    "# this tries 1000 different weight combinations for the assests\n",
    "for i in range (1000):\n",
    "     weights = np.random.random(num_assets)\n",
    "     weights /= np.sum(weights) \n",
    "     pfolio_returns.append(np.sum(weights * log_returns.mean())*250)\n",
    "     pfolio_volatilities.append(np.sum(np.dot(weights.T, np.dot(log_returns.cov()*250, weights))))\n",
    "    "
   ]
  },
  {
   "cell_type": "code",
   "execution_count": null,
   "metadata": {
    "collapsed": true
   },
   "outputs": [],
   "source": [
    " \n",
    "# creat and store the simulations in a dataframe\n",
    "portfolios = pd.DataFrame({'Return': pfolio_returns, 'Volatility': pfolio_volatilities})"
   ]
  },
  {
   "cell_type": "code",
   "execution_count": null,
   "metadata": {
    "collapsed": true
   },
   "outputs": [],
   "source": [
    "# sanity check firt few rows\n",
    "portfolios.head()\n",
    "# sanity check last few rows"
   ]
  },
  {
   "cell_type": "code",
   "execution_count": null,
   "metadata": {
    "collapsed": true
   },
   "outputs": [],
   "source": [
    "# sanity check last few rows\n",
    "portfolios.tail()"
   ]
  },
  {
   "cell_type": "code",
   "execution_count": null,
   "metadata": {
    "collapsed": true
   },
   "outputs": [],
   "source": [
    "# plot the Markowitz Efficient Frontier: Want portfolio with smallest\n",
    "# expected volatility and highest expected return\n",
    "portfolios.plot(x='Volatility', y ='Return', kind = 'scatter', figsize = (10, 6))\n",
    "plt.title('Markowitz Efficient Frontier (AAPL, INTL, MSFT, TSLA)')\n",
    "plt.xlabel('Expected Volatility')\n",
    "plt.ylabel('Expected Return')\n",
    "plt.savefig('Markowitz-Efficient-Frontier-.pdf', \n",
    "    bbox_inches = 'tight', dpi=None, facecolor='w', edgecolor='b', \n",
    "    orientation='portrait', papertype=None, format=None, \n",
    "    transparent=True, pad_inches=0.25, frameon=None)\n",
    "plt.show()"
   ]
  }
 ],
 "metadata": {
  "kernelspec": {
   "display_name": "Python 3",
   "language": "python",
   "name": "python3"
  },
  "language_info": {
   "codemirror_mode": {
    "name": "ipython",
    "version": 3
   },
   "file_extension": ".py",
   "mimetype": "text/x-python",
   "name": "python",
   "nbconvert_exporter": "python",
   "pygments_lexer": "ipython3",
   "version": "3.6.3"
  }
 },
 "nbformat": 4,
 "nbformat_minor": 2
}
